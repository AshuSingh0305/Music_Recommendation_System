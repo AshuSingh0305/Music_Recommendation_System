{
  "nbformat": 4,
  "nbformat_minor": 0,
  "metadata": {
    "colab": {
      "name": "Music Recommendation",
      "provenance": [],
      "collapsed_sections": []
    },
    "kernelspec": {
      "name": "ir",
      "display_name": "R"
    },
    "language_info": {
      "name": "R"
    }
  },
  "cells": [
    {
      "cell_type": "markdown",
      "source": [
        "# **Load Data**"
      ],
      "metadata": {
        "id": "_0dSQqEhldn3"
      }
    },
    {
      "cell_type": "code",
      "execution_count": null,
      "metadata": {
        "colab": {
          "base_uri": "https://localhost:8080/"
        },
        "id": "MzbGT1EnuUGS",
        "outputId": "acfdf953-02ed-468a-b79f-8b7b87640937"
      },
      "outputs": [
        {
          "output_type": "stream",
          "name": "stdout",
          "text": [
            "'data.frame':\t17632 obs. of  4 variables:\n",
            " $ id        : int  1 2 3 4 5 6 7 8 9 10 ...\n",
            " $ name      : chr  \"MALICE MIZER\" \"Diary of Dreams\" \"Carpathian Forest\" \"Moi dix Mois\" ...\n",
            " $ url       : chr  \"http://www.last.fm/music/MALICE+MIZER\" \"http://www.last.fm/music/Diary+of+Dreams\" \"http://www.last.fm/music/Carpathian+Forest\" \"http://www.last.fm/music/Moi+dix+Mois\" ...\n",
            " $ pictureURL: chr  \"http://userserve-ak.last.fm/serve/252/10808.jpg\" \"http://userserve-ak.last.fm/serve/252/3052066.jpg\" \"http://userserve-ak.last.fm/serve/252/40222717.jpg\" \"http://userserve-ak.last.fm/serve/252/54697835.png\" ...\n"
          ]
        }
      ],
      "source": [
        "artists = read.table(\"artists.dat\",sep=\"\\t\",fileEncoding = \"UTF-8\",stringsAsFactors = F,comment.char = \"\",quote=\"\",header = T)\n",
        "str(artists)"
      ]
    },
    {
      "cell_type": "code",
      "source": [
        "user_artists = read.table(\"user_artists.dat\",sep=\"\\t\",header = T)\n",
        "str(user_artists)"
      ],
      "metadata": {
        "colab": {
          "base_uri": "https://localhost:8080/"
        },
        "id": "Sh9EJNw9-jZo",
        "outputId": "3fae9e00-65b9-4416-a8b7-110c2c3de7f1"
      },
      "execution_count": null,
      "outputs": [
        {
          "output_type": "stream",
          "name": "stdout",
          "text": [
            "'data.frame':\t92834 obs. of  3 variables:\n",
            " $ userID  : int  2 2 2 2 2 2 2 2 2 2 ...\n",
            " $ artistID: int  51 52 53 54 55 56 57 58 59 60 ...\n",
            " $ weight  : int  13883 11690 11351 10300 8983 6152 5955 4616 4337 4147 ...\n"
          ]
        }
      ]
    },
    {
      "cell_type": "markdown",
      "source": [
        "# **Data Transformation**"
      ],
      "metadata": {
        "id": "4BNCowV3l0oa"
      }
    },
    {
      "cell_type": "markdown",
      "source": [
        "**Long to wide**\n",
        "\n",
        "The data provided is in long format. Let’s convert to wider format such that each row represent the listened count of a user."
      ],
      "metadata": {
        "id": "8xbWNuvel-D8"
      }
    },
    {
      "cell_type": "code",
      "source": [
        "library(tidyr)\n",
        "user_artists_wide = user_artists %>% spread(key=artistID,value=weight)\n",
        "dim(user_artists_wide)"
      ],
      "metadata": {
        "colab": {
          "base_uri": "https://localhost:8080/",
          "height": 34
        },
        "id": "Fv4eMxPU-pDP",
        "outputId": "078d077a-1c43-43e1-d2b5-737bc8293b04"
      },
      "execution_count": null,
      "outputs": [
        {
          "output_type": "display_data",
          "data": {
            "text/plain": [
              "[1]  1892 17633"
            ],
            "text/latex": "\\begin{enumerate*}\n\\item 1892\n\\item 17633\n\\end{enumerate*}\n",
            "text/markdown": "1. 1892\n2. 17633\n\n\n",
            "text/html": [
              "<style>\n",
              ".list-inline {list-style: none; margin:0; padding: 0}\n",
              ".list-inline>li {display: inline-block}\n",
              ".list-inline>li:not(:last-child)::after {content: \"\\00b7\"; padding: 0 .5ex}\n",
              "</style>\n",
              "<ol class=list-inline><li>1892</li><li>17633</li></ol>\n"
            ]
          },
          "metadata": {}
        }
      ]
    },
    {
      "cell_type": "code",
      "source": [
        "artists$charid=paste0(\"I\",artists$id)"
      ],
      "metadata": {
        "id": "OxymXkab-tOm"
      },
      "execution_count": null,
      "outputs": []
    },
    {
      "cell_type": "code",
      "source": [
        "userids=user_artists_wide$userID\n",
        "user_artists_wide$IuserID = NULL\n",
        "rownames(user_artists_wide) = paste0(\"U\",userids)\n",
        "colnames(user_artists_wide) = paste0(\"I\",colnames(user_artists_wide))\n",
        "user_artists_wide[1:6,1:10]"
      ],
      "metadata": {
        "colab": {
          "base_uri": "https://localhost:8080/",
          "height": 286
        },
        "id": "DvmLmZp4-x7i",
        "outputId": "1daae420-742b-4677-a79c-561e02188531"
      },
      "execution_count": null,
      "outputs": [
        {
          "output_type": "display_data",
          "data": {
            "text/plain": [
              "   IuserID I1 I2 I3 I4 I5 I6 I7 I8 I9\n",
              "U2 2       NA NA NA NA NA NA NA NA NA\n",
              "U3 3       NA NA NA NA NA NA NA NA NA\n",
              "U4 4       NA NA NA NA NA NA NA NA NA\n",
              "U5 5       NA NA NA NA NA NA NA NA NA\n",
              "U6 6       NA NA NA NA NA NA NA NA NA\n",
              "U7 7       NA NA NA NA NA NA NA NA NA"
            ],
            "text/latex": "A data.frame: 6 × 10\n\\begin{tabular}{r|llllllllll}\n  & IuserID & I1 & I2 & I3 & I4 & I5 & I6 & I7 & I8 & I9\\\\\n  & <int> & <int> & <int> & <int> & <int> & <int> & <int> & <int> & <int> & <int>\\\\\n\\hline\n\tU2 & 2 & NA & NA & NA & NA & NA & NA & NA & NA & NA\\\\\n\tU3 & 3 & NA & NA & NA & NA & NA & NA & NA & NA & NA\\\\\n\tU4 & 4 & NA & NA & NA & NA & NA & NA & NA & NA & NA\\\\\n\tU5 & 5 & NA & NA & NA & NA & NA & NA & NA & NA & NA\\\\\n\tU6 & 6 & NA & NA & NA & NA & NA & NA & NA & NA & NA\\\\\n\tU7 & 7 & NA & NA & NA & NA & NA & NA & NA & NA & NA\\\\\n\\end{tabular}\n",
            "text/markdown": "\nA data.frame: 6 × 10\n\n| <!--/--> | IuserID &lt;int&gt; | I1 &lt;int&gt; | I2 &lt;int&gt; | I3 &lt;int&gt; | I4 &lt;int&gt; | I5 &lt;int&gt; | I6 &lt;int&gt; | I7 &lt;int&gt; | I8 &lt;int&gt; | I9 &lt;int&gt; |\n|---|---|---|---|---|---|---|---|---|---|---|\n| U2 | 2 | NA | NA | NA | NA | NA | NA | NA | NA | NA |\n| U3 | 3 | NA | NA | NA | NA | NA | NA | NA | NA | NA |\n| U4 | 4 | NA | NA | NA | NA | NA | NA | NA | NA | NA |\n| U5 | 5 | NA | NA | NA | NA | NA | NA | NA | NA | NA |\n| U6 | 6 | NA | NA | NA | NA | NA | NA | NA | NA | NA |\n| U7 | 7 | NA | NA | NA | NA | NA | NA | NA | NA | NA |\n\n",
            "text/html": [
              "<table class=\"dataframe\">\n",
              "<caption>A data.frame: 6 × 10</caption>\n",
              "<thead>\n",
              "\t<tr><th></th><th scope=col>IuserID</th><th scope=col>I1</th><th scope=col>I2</th><th scope=col>I3</th><th scope=col>I4</th><th scope=col>I5</th><th scope=col>I6</th><th scope=col>I7</th><th scope=col>I8</th><th scope=col>I9</th></tr>\n",
              "\t<tr><th></th><th scope=col>&lt;int&gt;</th><th scope=col>&lt;int&gt;</th><th scope=col>&lt;int&gt;</th><th scope=col>&lt;int&gt;</th><th scope=col>&lt;int&gt;</th><th scope=col>&lt;int&gt;</th><th scope=col>&lt;int&gt;</th><th scope=col>&lt;int&gt;</th><th scope=col>&lt;int&gt;</th><th scope=col>&lt;int&gt;</th></tr>\n",
              "</thead>\n",
              "<tbody>\n",
              "\t<tr><th scope=row>U2</th><td>2</td><td>NA</td><td>NA</td><td>NA</td><td>NA</td><td>NA</td><td>NA</td><td>NA</td><td>NA</td><td>NA</td></tr>\n",
              "\t<tr><th scope=row>U3</th><td>3</td><td>NA</td><td>NA</td><td>NA</td><td>NA</td><td>NA</td><td>NA</td><td>NA</td><td>NA</td><td>NA</td></tr>\n",
              "\t<tr><th scope=row>U4</th><td>4</td><td>NA</td><td>NA</td><td>NA</td><td>NA</td><td>NA</td><td>NA</td><td>NA</td><td>NA</td><td>NA</td></tr>\n",
              "\t<tr><th scope=row>U5</th><td>5</td><td>NA</td><td>NA</td><td>NA</td><td>NA</td><td>NA</td><td>NA</td><td>NA</td><td>NA</td><td>NA</td></tr>\n",
              "\t<tr><th scope=row>U6</th><td>6</td><td>NA</td><td>NA</td><td>NA</td><td>NA</td><td>NA</td><td>NA</td><td>NA</td><td>NA</td><td>NA</td></tr>\n",
              "\t<tr><th scope=row>U7</th><td>7</td><td>NA</td><td>NA</td><td>NA</td><td>NA</td><td>NA</td><td>NA</td><td>NA</td><td>NA</td><td>NA</td></tr>\n",
              "</tbody>\n",
              "</table>\n"
            ]
          },
          "metadata": {}
        }
      ]
    },
    {
      "cell_type": "markdown",
      "source": [
        "# **Filter, center and Scale data**"
      ],
      "metadata": {
        "id": "S3M8xnh3mS7s"
      }
    },
    {
      "cell_type": "markdown",
      "source": [
        "In order to ensure we have enough data to work with and also to keep the computation cost down, the top 1000 artists and the users who has listened to at least 11 artists are kept in the dataset.\n",
        "\n",
        "In order to eliminate difference in scale of data between users the data is centered and scaled."
      ],
      "metadata": {
        "id": "KnGDO7qemXVG"
      }
    },
    {
      "cell_type": "code",
      "source": [
        "visits_byitem=colSums(user_artists_wide[,-1],na.rm = T)\n",
        "\n",
        "visits_1k = user_artists_wide[,order(visits_byitem,decreasing = T)[1:1000]]\n",
        "num_visits=apply(visits_1k,1,function(x) return(sum(!is.na(x))))\n",
        "visits_1k = visits_1k[num_visits>10,]\n",
        "dim(visits_1k)"
      ],
      "metadata": {
        "colab": {
          "base_uri": "https://localhost:8080/",
          "height": 34
        },
        "id": "Xl6B3CC2-14X",
        "outputId": "3bb5a7ee-fb23-4922-e037-681aeac1f7b8"
      },
      "execution_count": null,
      "outputs": [
        {
          "output_type": "display_data",
          "data": {
            "text/plain": [
              "[1] 1478 1000"
            ],
            "text/latex": "\\begin{enumerate*}\n\\item 1478\n\\item 1000\n\\end{enumerate*}\n",
            "text/markdown": "1. 1478\n2. 1000\n\n\n",
            "text/html": [
              "<style>\n",
              ".list-inline {list-style: none; margin:0; padding: 0}\n",
              ".list-inline>li {display: inline-block}\n",
              ".list-inline>li:not(:last-child)::after {content: \"\\00b7\"; padding: 0 .5ex}\n",
              "</style>\n",
              "<ol class=list-inline><li>1478</li><li>1000</li></ol>\n"
            ]
          },
          "metadata": {}
        }
      ]
    },
    {
      "cell_type": "code",
      "source": [
        "visits_1k=t(scale(t(visits_1k))[,])"
      ],
      "metadata": {
        "id": "UvOguXLx-4Ll"
      },
      "execution_count": null,
      "outputs": []
    },
    {
      "cell_type": "markdown",
      "source": [
        "# **Methodlogy - User Based Collaborative Filtering**"
      ],
      "metadata": {
        "id": "MIzAIu8NmdvK"
      }
    },
    {
      "cell_type": "markdown",
      "source": [
        "We shall use user based collaborative filtering method to come up with recommendation. The recommendation is first completely hand coded and then the results are compared with the recommenderlab package. As the methodology used in the hand coded method is same as the one used by recommenderlab the results of hand coded method is expected to be in-line with the results from recommederlab.\n",
        "\n",
        "**User based collaborative filtering**\n",
        "\n",
        "Recommendation for user is made based on similarity between \n",
        "users as described below\n",
        "\n",
        "Compute similarity of the user with other user (using \n",
        "Pearson correlation)\n",
        "\n",
        "Select top 50 similar user of the user for whom recommendation needs to be done\n",
        "\n",
        "Compute items rating based on the recommendations done by the 50 similar users\n",
        "\n",
        "Recommend items with high ratings"
      ],
      "metadata": {
        "id": "75N6cVr5mgGF"
      }
    },
    {
      "cell_type": "markdown",
      "source": [
        "# Similarity Function"
      ],
      "metadata": {
        "id": "fieE6RfHnCQ0"
      }
    },
    {
      "cell_type": "markdown",
      "source": [
        "For similarity between users we shall use Pearson correlation. The function below provides similarity between user or products."
      ],
      "metadata": {
        "id": "kvDDWZabnMap"
      }
    },
    {
      "cell_type": "code",
      "source": [
        "#Function that computes similarity\n",
        "similarity_user=function(all_data,user_data){\n",
        "  #Transpose so that users are on columns\n",
        "  all_data=t(all_data)\n",
        "  #Use pearson correlation\n",
        "  score = cor(all_data,user_data,use = \"pairwise\")\n",
        "  return(score)\n",
        "}"
      ],
      "metadata": {
        "id": "QssCn17s-78I"
      },
      "execution_count": null,
      "outputs": []
    },
    {
      "cell_type": "markdown",
      "source": [
        "# **UBCF - Hand coded function**"
      ],
      "metadata": {
        "id": "pzwiIUy8nRtt"
      }
    },
    {
      "cell_type": "code",
      "source": [
        "#Function that predicts rating and list recommendation\n",
        "ubcf_recommend=function(data,user_data,num_rec=20,num_sim=50){\n",
        "  user_sim = similarity_user(data,user_data)\n",
        "  #Replace NA with zero\n",
        "  data_na0=data\n",
        "  data_na0[is.na(data_na0)]=0\n",
        "  top_sim_users=order(user_sim,decreasing = T)[1:num_sim]\n",
        "  ratings=(user_sim[top_sim_users,1]%*%data_na0[top_sim_users,])\n",
        "  prediction=NULL\n",
        "  prediction$ratings=ratings\n",
        "  #Set rating of already rated item to NA\n",
        "  ratings[!is.na(user_data)]=NA\n",
        "  prediction$recommendation=order(ratings,decreasing = T)[1:20]\n",
        "  #To do remove already visited artists\n",
        "  return(prediction)\n",
        "}"
      ],
      "metadata": {
        "id": "m3HRBfEx-_jC"
      },
      "execution_count": null,
      "outputs": []
    },
    {
      "cell_type": "markdown",
      "source": [
        "# **Split data for training and testing**\n",
        "In order to evaluate the recommendations the data is split into training and testing data. Training data is used for training and recommendations are computed for users in test data."
      ],
      "metadata": {
        "id": "1PsLYT9vnWSt"
      }
    },
    {
      "cell_type": "code",
      "source": [
        "install.packages(\"recommenderlab\")"
      ],
      "metadata": {
        "colab": {
          "base_uri": "https://localhost:8080/"
        },
        "id": "YtDBZ82P_TWl",
        "outputId": "93456fe4-2b8f-4998-e6bc-7e29b27b1fda"
      },
      "execution_count": null,
      "outputs": [
        {
          "output_type": "stream",
          "name": "stderr",
          "text": [
            "Installing package into ‘/usr/local/lib/R/site-library’\n",
            "(as ‘lib’ is unspecified)\n",
            "\n",
            "also installing the dependencies ‘float’, ‘RcppProgress’, ‘arules’, ‘proxy’, ‘registry’, ‘irlba’, ‘recosystem’\n",
            "\n",
            "\n"
          ]
        }
      ]
    },
    {
      "cell_type": "code",
      "source": [
        "library(recommenderlab)\n",
        "visits_1k_rrm=as(as.matrix(visits_1k),\"realRatingMatrix\")\n",
        "set.seed(100)\n",
        "eval_sets <- evaluationScheme(data = visits_1k_rrm, method = \"split\", train = .8, given = 10, goodRating=3, k = 1)"
      ],
      "metadata": {
        "colab": {
          "base_uri": "https://localhost:8080/"
        },
        "id": "mh0bddT1_Dxu",
        "outputId": "93f3f81e-de44-4217-d4e1-8d8c6ccbba8b"
      },
      "execution_count": null,
      "outputs": [
        {
          "output_type": "stream",
          "name": "stderr",
          "text": [
            "Loading required package: Matrix\n",
            "\n",
            "\n",
            "Attaching package: ‘Matrix’\n",
            "\n",
            "\n",
            "The following objects are masked from ‘package:tidyr’:\n",
            "\n",
            "    expand, pack, unpack\n",
            "\n",
            "\n",
            "Loading required package: arules\n",
            "\n",
            "\n",
            "Attaching package: ‘arules’\n",
            "\n",
            "\n",
            "The following objects are masked from ‘package:base’:\n",
            "\n",
            "    abbreviate, write\n",
            "\n",
            "\n",
            "Loading required package: proxy\n",
            "\n",
            "\n",
            "Attaching package: ‘proxy’\n",
            "\n",
            "\n",
            "The following object is masked from ‘package:Matrix’:\n",
            "\n",
            "    as.matrix\n",
            "\n",
            "\n",
            "The following objects are masked from ‘package:stats’:\n",
            "\n",
            "    as.dist, dist\n",
            "\n",
            "\n",
            "The following object is masked from ‘package:base’:\n",
            "\n",
            "    as.matrix\n",
            "\n",
            "\n",
            "Loading required package: registry\n",
            "\n",
            "Registered S3 methods overwritten by 'registry':\n",
            "  method               from \n",
            "  print.registry_field proxy\n",
            "  print.registry_entry proxy\n",
            "\n"
          ]
        }
      ]
    },
    {
      "cell_type": "markdown",
      "source": [
        "Function to get artist name given the Id"
      ],
      "metadata": {
        "id": "a4yFkuNtnsFn"
      }
    },
    {
      "cell_type": "code",
      "source": [
        "getArtistName=function(artistid){\n",
        "  return(artists$name[artists$charid==artistid])\n",
        "}\n",
        "#Vectorize the function to enable get values for a vector of ids\n",
        "getArtistName=Vectorize(getArtistName)"
      ],
      "metadata": {
        "id": "RWjCGy9g_9Tg"
      },
      "execution_count": null,
      "outputs": []
    },
    {
      "cell_type": "markdown",
      "source": [
        "# **Get Recommendation using hand coded UBCF**"
      ],
      "metadata": {
        "id": "E62kmqgRnyaF"
      }
    },
    {
      "cell_type": "code",
      "source": [
        "#Convert realRatingMatrix to regular Matrix\n",
        "train=as.matrix(getRatingMatrix(getData(eval_sets,\"train\")))\n",
        "test=as.matrix(getRatingMatrix(getData(eval_sets,\"known\")))\n",
        "#realRating Matrix stores missing value as 0, convert them back to NA\n",
        "train[train==0]=NA\n",
        "test[test==0]=NA\n",
        "#Check prediction for one user\n",
        "pred1=ubcf_recommend(train,test[1,])\n",
        "cat(\"\\n**** Recommendation for user\",rownames(test)[1],\"\\n\")"
      ],
      "metadata": {
        "colab": {
          "base_uri": "https://localhost:8080/"
        },
        "id": "uz8OZY80ATnx",
        "outputId": "8348b2c2-53d4-488a-a925-30f14b983650"
      },
      "execution_count": null,
      "outputs": [
        {
          "output_type": "stream",
          "name": "stdout",
          "text": [
            "\n",
            "**** Recommendation for user U7 \n"
          ]
        }
      ]
    },
    {
      "cell_type": "code",
      "source": [
        "recommend=getArtistName(colnames(train)[pred1$recommendation])\n",
        "cat(recommend,sep=\"\\n\")"
      ],
      "metadata": {
        "colab": {
          "base_uri": "https://localhost:8080/"
        },
        "id": "hK8-70D5AVel",
        "outputId": "49eb9ccc-4009-4d6b-8eab-40eec3f8c687"
      },
      "execution_count": null,
      "outputs": [
        {
          "output_type": "stream",
          "name": "stdout",
          "text": [
            "Christina Aguilera\n",
            "Glee Cast\n",
            "Rihanna\n",
            "Miley Cyrus\n",
            "The Pretty Reckless\n",
            "The Beatles\n",
            "Demi Lovato\n",
            "Ke$ha\n",
            "Kerli\n",
            "U2\n",
            "Katy Perry\n",
            "Paramore\n",
            "Björk\n",
            "3OH!3\n",
            "My Chemical Romance\n",
            "Led Zeppelin\n",
            "Ashley Tisdale\n",
            "The Script\n",
            "Garbage\n",
            "Cansei de Ser Sexy\n"
          ]
        }
      ]
    }
  ]
}